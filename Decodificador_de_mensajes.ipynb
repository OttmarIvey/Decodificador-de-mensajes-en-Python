{
  "nbformat": 4,
  "nbformat_minor": 0,
  "metadata": {
    "colab": {
      "provenance": [],
      "authorship_tag": "ABX9TyNZEP48//4z1nmOI4ZXEAvd",
      "include_colab_link": true
    },
    "kernelspec": {
      "name": "python3",
      "display_name": "Python 3"
    },
    "language_info": {
      "name": "python"
    }
  },
  "cells": [
    {
      "cell_type": "markdown",
      "metadata": {
        "id": "view-in-github",
        "colab_type": "text"
      },
      "source": [
        "<a href=\"https://colab.research.google.com/github/OttmarIvey/Decodificador-de-mensajes-en-Python/blob/main/Decodificador_de_mensajes.ipynb\" target=\"_parent\"><img src=\"https://colab.research.google.com/assets/colab-badge.svg\" alt=\"Open In Colab\"/></a>"
      ]
    },
    {
      "cell_type": "code",
      "source": [
        "def decode(message_file):\n",
        "    try:\n",
        "        with open(message_file, 'r', encoding='utf-8') as file:\n",
        "            message = file.readlines()\n",
        "\n",
        "        # Extract numbers and words from file content\n",
        "        data = [(int(line.split()[0]), line.split()[1].strip()) for line in message]\n",
        "\n",
        "        # Sort data by number in ascending order\n",
        "        data.sort(key=lambda x: x[0])\n",
        "\n",
        "        # Create the pyramid\n",
        "        pyramid= \"\"\n",
        "        current_num = 1\n",
        "        words_last_column = []\n",
        "        for i in range(1, len(data) + 1):\n",
        "            row = ' '.join(map(str, [num for num, _ in data[current_num - 1:current_num + i - 1]]))\n",
        "            pyramid += row + '' + '\\n'\n",
        "            if current_num + i - 2 < len(data):  # Make sure the index is valid\n",
        "                words_last_column.append(data[current_num + i - 2][1])\n",
        "            current_num += i\n",
        "        print( ' '.join(map(str, words_last_column)))\n",
        "\n",
        "    except FileNotFoundError:\n",
        "        return \"The file was not found.\"\n",
        "    except Exception as e:\n",
        "        return f\"An error occurred: {str(e)}\"\n",
        "\n",
        "# Example of use\n",
        "path = '/content/coding_qual_input.txt'\n",
        "words_sequence = decode(path)\n",
        "\n",
        "\n",
        "# Print words sequence\n",
        "words_sequence\n"
      ],
      "metadata": {
        "colab": {
          "base_uri": "https://localhost:8080/"
        },
        "id": "D4mBbiOwGWQk",
        "outputId": "f901e644-d8e5-45d4-a19c-3fd7069ba6da"
      },
      "execution_count": null,
      "outputs": [
        {
          "output_type": "stream",
          "name": "stdout",
          "text": [
            "opposite sun rain think ocean to winter wild it ready buy card possible would electric stay post paragraph produce state our compare touch possible\n"
          ]
        }
      ]
    },
    {
      "cell_type": "code",
      "source": [],
      "metadata": {
        "id": "6s-b_r_vK0W8"
      },
      "execution_count": null,
      "outputs": []
    }
  ]
}